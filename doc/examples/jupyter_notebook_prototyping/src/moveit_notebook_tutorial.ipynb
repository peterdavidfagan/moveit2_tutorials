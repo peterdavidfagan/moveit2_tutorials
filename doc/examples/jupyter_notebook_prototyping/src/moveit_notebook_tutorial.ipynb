{
 "cells": [
  {
   "cell_type": "markdown",
   "id": "4df8633e",
   "metadata": {},
   "source": [
    "# Introduction\n",
    "\n",
    "Welcome to this tutorial on using jupyter notebooks with Moveit 2. A great benefit of being able to interact with MoveIt via a Python notebook is the ability to rapidly prototype code. We hope you find this interface intuitive and that you gain value from using MoveIt via Python notebooks.\n",
    "\n",
    "In this tutorial we will cover the following: \n",
    "\n",
    "* The required imports to run the notebook\n",
    "* A motion planning example\n",
    "* A teleoperation example\n",
    "\n",
    "If you have suggestions or feedback for this tutorial please post an issue on GitHub (https://github.com/ros-planning/moveit2_tutorials) and tag @peterdavidfagan."
   ]
  },
  {
   "cell_type": "markdown",
   "id": "91901c66",
   "metadata": {},
   "source": [
    "## Imports\n",
    "\n",
    "Note: to launch this notebook and the nodes it depends on you must first specify a launch file. Details are provided earlier in this tutorial ()."
   ]
  },
  {
   "cell_type": "code",
   "execution_count": 1,
   "id": "7bd810f5",
   "metadata": {},
   "outputs": [
    {
     "name": "stdout",
     "output_type": "stream",
     "text": [
      "Failed to read parameter file from command line arguments.\n"
     ]
    },
    {
     "name": "stderr",
     "output_type": "stream",
     "text": [
      "warning: Using load_yaml() directly is deprecated. Use xacro.load_yaml() instead.\n"
     ]
    }
   ],
   "source": [
    "import os\n",
    "import sys\n",
    "import yaml\n",
    "import rclpy\n",
    "import numpy as np\n",
    "\n",
    "# message libraries\n",
    "from geometry_msgs.msg import PoseStamped, Pose\n",
    "\n",
    "# moveit_py\n",
    "from moveit_py.planning import MoveItPy\n",
    "from moveit_py.core import RobotState\n",
    "\n",
    "# config file libraries\n",
    "from moveit_configs_utils import MoveItConfigsBuilder\n",
    "from ament_index_python.packages import get_package_share_directory\n",
    "\n",
    "\n",
    "# we need to specify our moveit_py config at the top of each notebook we use. \n",
    "# this is since we will start spinning a moveit_py node within this notebook.\n",
    "\n",
    "moveit_config = (\n",
    "        MoveItConfigsBuilder(robot_name=\"panda\", package_name=\"moveit_resources_panda_moveit_config\")\n",
    "        .robot_description(file_path=\"config/panda.urdf.xacro\")\n",
    "        .trajectory_execution(file_path=\"config/gripper_moveit_controllers.yaml\")\n",
    "        .moveit_cpp(\n",
    "            file_path=get_package_share_directory(\"moveit2_tutorials\")\n",
    "            + \"/config/jupyter_notebook_prototyping.yaml\"\n",
    "        )\n",
    "        .to_moveit_configs()\n",
    "    ).to_dict()"
   ]
  },
  {
   "cell_type": "markdown",
   "id": "d44015e2",
   "metadata": {},
   "source": [
    "## Setup"
   ]
  },
  {
   "cell_type": "code",
   "execution_count": 2,
   "id": "f9d767d3",
   "metadata": {},
   "outputs": [
    {
     "name": "stderr",
     "output_type": "stream",
     "text": [
      "[INFO] [1672601742.400740052] [moveit_cpp_initializer]: Initialize rclcpp\n",
      "[INFO] [1672601742.400953453] [moveit_cpp_initializer]: Initialize node parameters\n",
      "[INFO] [1672601742.464239974] [moveit_cpp_initializer]: params_filepath: /tmp/launch_params_3uz30lly\n",
      "[INFO] [1672601742.464317689] [moveit_cpp_initializer]: Initialize node and executor\n",
      "[INFO] [1672601742.519777951] [moveit_cpp_initializer]: Spin separate thread\n",
      "[INFO] [1672601742.522371797] [moveit_rdf_loader.rdf_loader]: Loaded robot model in 0.0023126 seconds\n",
      "[INFO] [1672601742.522497118] [moveit_robot_model.robot_model]: Loading robot model 'panda'...\n",
      "[INFO] [1672601742.557053458] [kdl_parser]: Link panda_link1 had 1 children.\n",
      "[INFO] [1672601742.557100115] [kdl_parser]: Link panda_link2 had 1 children.\n",
      "[INFO] [1672601742.557107585] [kdl_parser]: Link panda_link3 had 1 children.\n",
      "[INFO] [1672601742.557113979] [kdl_parser]: Link panda_link4 had 1 children.\n",
      "[INFO] [1672601742.557121696] [kdl_parser]: Link panda_link5 had 1 children.\n",
      "[INFO] [1672601742.557127925] [kdl_parser]: Link panda_link6 had 1 children.\n",
      "[INFO] [1672601742.557133496] [kdl_parser]: Link panda_link7 had 1 children.\n",
      "[INFO] [1672601742.557139134] [kdl_parser]: Link panda_link8 had 1 children.\n",
      "[INFO] [1672601742.557147988] [kdl_parser]: Link panda_hand had 2 children.\n",
      "[INFO] [1672601742.557155172] [kdl_parser]: Link panda_leftfinger had 0 children.\n",
      "[INFO] [1672601742.557162695] [kdl_parser]: Link panda_rightfinger had 0 children.\n",
      "[INFO] [1672601742.557456279] [moveit_kinematics_base.kinematics_base]: Joint weights for group 'panda_arm': 1 1 1 1 1 1 1\n",
      "[ERROR] [1672601742.558109381] [moveit_kinematics_base.kinematics_base]: Group 'hand' is not a chain\n",
      "[ERROR] [1672601742.558127971] [kinematics_plugin_loader]: Kinematics solver of type 'kdl_kinematics_plugin/KDLKinematicsPlugin' could not be initialized for group 'hand'\n",
      "[ERROR] [1672601742.558198398] [moveit_ros.robot_model_loader]: Kinematics solver could not be instantiated for joint group hand.\n",
      "[ERROR] [1672601742.558545793] [moveit_kinematics_base.kinematics_base]: Group 'panda_arm_hand' is not a chain\n",
      "[ERROR] [1672601742.558560401] [kinematics_plugin_loader]: Kinematics solver of type 'kdl_kinematics_plugin/KDLKinematicsPlugin' could not be initialized for group 'panda_arm_hand'\n",
      "[ERROR] [1672601742.558587986] [moveit_ros.robot_model_loader]: Kinematics solver could not be instantiated for joint group panda_arm_hand.\n",
      "[INFO] [1672601742.674287561] [moveit.ros_planning_interface.moveit_cpp]: Listening to '/joint_states' for joint states\n",
      "[INFO] [1672601742.677903112] [moveit_ros.current_state_monitor]: Listening to joint states on topic '/joint_states'\n",
      "[INFO] [1672601742.682927397] [moveit_ros.planning_scene_monitor.planning_scene_monitor]: Listening to '/moveit_cpp/planning_scene_monitor' for attached collision objects\n",
      "[INFO] [1672601742.684765795] [moveit_ros.planning_scene_monitor.planning_scene_monitor]: Publishing maintained planning scene on '/moveit_cpp/monitored_planning_scene'\n",
      "[INFO] [1672601742.685056347] [moveit_ros.planning_scene_monitor.planning_scene_monitor]: Starting planning scene monitor\n",
      "[INFO] [1672601742.685607731] [moveit_ros.planning_scene_monitor.planning_scene_monitor]: Listening to '/moveit_cpp/publish_planning_scene'\n",
      "[INFO] [1672601742.685629797] [moveit_ros.planning_scene_monitor.planning_scene_monitor]: Starting world geometry update monitor for collision objects, attached objects, octomap updates.\n",
      "[INFO] [1672601742.686226566] [moveit_ros.planning_scene_monitor.planning_scene_monitor]: Listening to 'collision_object'\n",
      "[INFO] [1672601742.686815512] [moveit_ros.planning_scene_monitor.planning_scene_monitor]: Listening to 'planning_scene_world' for planning scene world geometry\n",
      "[WARN] [1672601742.688249284] [moveit.ros.occupancy_map_monitor.middleware_handle]: Resolution not specified for Octomap. Assuming resolution = 0.1 instead\n",
      "[ERROR] [1672601742.688272956] [moveit.ros.occupancy_map_monitor.middleware_handle]: No 3D sensor plugin(s) defined for octomap updates\n",
      "[INFO] [1672601742.689946822] [moveit.ros_planning_interface.moveit_cpp]: Loading planning pipeline 'ompl'\n",
      "[WARN] [1672601742.693284300] [moveit_ros.current_state_monitor]: Unable to update multi-DOF joint 'virtual_joint':Failure to lookup transform between 'world'and 'panda_link0' with TF exception: \"world\" passed to lookupTransform argument target_frame does not exist. \n",
      "[INFO] [1672601742.713047039] [moveit.ros_planning.planning_pipeline]: Using planning interface 'OMPL'\n",
      "[INFO] [1672601742.721390567] [moveit_ros.add_time_optimal_parameterization]: Param 'ompl.path_tolerance' was not set. Using default value: 0.100000\n",
      "[INFO] [1672601742.721419035] [moveit_ros.add_time_optimal_parameterization]: Param 'ompl.resample_dt' was not set. Using default value: 0.100000\n",
      "[INFO] [1672601742.721426637] [moveit_ros.add_time_optimal_parameterization]: Param 'ompl.min_angle_change' was not set. Using default value: 0.001000\n",
      "[INFO] [1672601742.721506935] [moveit_ros.fix_workspace_bounds]: Param 'ompl.default_workspace_bounds' was not set. Using default value: 10.000000\n",
      "[INFO] [1672601742.721544858] [moveit_ros.fix_start_state_bounds]: Param 'ompl.start_state_max_bounds_error' was set to 0.100000\n",
      "[INFO] [1672601742.721553968] [moveit_ros.fix_start_state_bounds]: Param 'ompl.start_state_max_dt' was not set. Using default value: 0.500000\n",
      "[INFO] [1672601742.721582547] [moveit_ros.fix_start_state_collision]: Param 'ompl.start_state_max_dt' was not set. Using default value: 0.500000\n",
      "[INFO] [1672601742.721593946] [moveit_ros.fix_start_state_collision]: Param 'ompl.jiggle_fraction' was not set. Using default value: 0.020000\n",
      "[INFO] [1672601742.721608442] [moveit_ros.fix_start_state_collision]: Param 'ompl.max_sampling_attempts' was not set. Using default value: 100\n",
      "[INFO] [1672601742.721650204] [moveit.ros_planning.planning_pipeline]: Using planning request adapter 'Add Time Optimal Parameterization'\n",
      "[INFO] [1672601742.721659034] [moveit.ros_planning.planning_pipeline]: Using planning request adapter 'Resolve constraint frames to robot links'\n",
      "[INFO] [1672601742.721667994] [moveit.ros_planning.planning_pipeline]: Using planning request adapter 'Fix Workspace Bounds'\n",
      "[INFO] [1672601742.721675216] [moveit.ros_planning.planning_pipeline]: Using planning request adapter 'Fix Start State Bounds'\n",
      "[INFO] [1672601742.721680596] [moveit.ros_planning.planning_pipeline]: Using planning request adapter 'Fix Start State In Collision'\n",
      "[INFO] [1672601742.721686180] [moveit.ros_planning.planning_pipeline]: Using planning request adapter 'Fix Start State Path Constraints'\n",
      "[INFO] [1672601742.764474720] [moveit.plugins.moveit_simple_controller_manager]: Added FollowJointTrajectory controller for panda_arm_controller\n",
      "[INFO] [1672601742.764634274] [moveit.plugins.moveit_simple_controller_manager]: Max effort set to 0.0\n",
      "[INFO] [1672601742.768164627] [moveit.plugins.moveit_simple_controller_manager]: Added GripperCommand controller for panda_hand_controller\n",
      "[INFO] [1672601742.768447358] [moveit.plugins.moveit_simple_controller_manager]: Returned 2 controllers in list\n",
      "[INFO] [1672601742.768535932] [moveit.plugins.moveit_simple_controller_manager]: Returned 2 controllers in list\n",
      "[INFO] [1672601742.769388359] [moveit_ros.trajectory_execution_manager]: Trajectory execution is managing controllers\n",
      "[WARN] [1672601742.771407045] [moveit_py]: Parameter 'plan_request_params.planner_id' not found in config use default value instead, check parameter type and namespace in YAML file\n",
      "[WARN] [1672601742.771486747] [moveit_py]: Parameter 'plan_request_params.planning_time' not found in config use default value instead, check parameter type and namespace in YAML file\n"
     ]
    }
   ],
   "source": [
    "# initialise rclpy (only for logging purposes)\n",
    "rclpy.init()\n",
    "\n",
    "# instantiate moveit_py instance and a planning component for the panda_arm\n",
    "moveit = MoveItPy(node_name=\"moveit_py\", config_dict=moveit_config)\n",
    "panda_arm = moveit.get_planning_component(\"panda_arm\")"
   ]
  },
  {
   "cell_type": "markdown",
   "id": "2f72a61e",
   "metadata": {},
   "source": [
    "## Motion Planning Example"
   ]
  },
  {
   "cell_type": "code",
   "execution_count": 3,
   "id": "74c84771",
   "metadata": {},
   "outputs": [
    {
     "name": "stderr",
     "output_type": "stream",
     "text": [
      "[INFO] [1672601743.925636638] [moveit.ompl_planning.model_based_planning_context]: Planner configuration 'panda_arm' will use planner 'geometric::RRTConnect'. Additional configuration parameters will be set when the planner is constructed.\n",
      "[INFO] [1672601748.667177958] [moveit.plugins.moveit_simple_controller_manager]: Returned 2 controllers in list\n",
      "[INFO] [1672601748.667305907] [moveit.plugins.moveit_simple_controller_manager]: Returned 2 controllers in list\n",
      "[INFO] [1672601748.667658250] [moveit.plugins.moveit_simple_controller_manager]: Returned 2 controllers in list\n",
      "[INFO] [1672601748.667818852] [moveit.plugins.moveit_simple_controller_manager]: Returned 2 controllers in list\n",
      "[INFO] [1672601748.668080547] [moveit_ros.trajectory_execution_manager]: Validating trajectory with allowed_start_tolerance 0.01\n",
      "[INFO] [1672601748.674987710] [moveit_ros.trajectory_execution_manager]: Starting trajectory execution ...\n",
      "[INFO] [1672601748.675067910] [moveit.plugins.moveit_simple_controller_manager]: Returned 2 controllers in list\n",
      "[INFO] [1672601748.675140261] [moveit.plugins.moveit_simple_controller_manager]: Returned 2 controllers in list\n",
      "[INFO] [1672601748.675298710] [moveit.simple_controller_manager.follow_joint_trajectory_controller_handle]: sending trajectory to panda_arm_controller\n",
      "[INFO] [1672601748.676914216] [moveit.simple_controller_manager.follow_joint_trajectory_controller_handle]: panda_arm_controller started execution\n",
      "[INFO] [1672601748.676959498] [moveit.simple_controller_manager.follow_joint_trajectory_controller_handle]: Goal request accepted!\n",
      "[INFO] [1672601750.477202490] [moveit.simple_controller_manager.follow_joint_trajectory_controller_handle]: Controller 'panda_arm_controller' successfully finished\n",
      "[INFO] [1672601750.505173840] [moveit_ros.trajectory_execution_manager]: Completed trajectory execution with status SUCCEEDED ...\n"
     ]
    }
   ],
   "source": [
    "# set plan start state using predefined state\n",
    "panda_arm.set_start_state(\"ready\")\n",
    "\n",
    "# set pose goal using predefined state\n",
    "panda_arm.set_goal(goal_state_name = \"extended\")\n",
    "\n",
    "# plan to goal\n",
    "plan_result = panda_arm.plan()\n",
    "\n",
    "# execute the plan\n",
    "if plan_result:\n",
    "    panda_arm.execute()"
   ]
  },
  {
   "cell_type": "markdown",
   "id": "297c0a2a",
   "metadata": {},
   "source": [
    "Great, so we can perform motion planning interactively (see the motion planning tutorial for further details of the motion planning API).Suppose we are developing our code and we make a mistake such as follows:"
   ]
  },
  {
   "cell_type": "code",
   "execution_count": 4,
   "id": "8d96f26b",
   "metadata": {},
   "outputs": [
    {
     "name": "stderr",
     "output_type": "stream",
     "text": [
      "[INFO] [1672601750.590561378] [moveit.ompl_planning.model_based_planning_context]: Planner configuration 'panda_arm' will use planner 'geometric::RRTConnect'. Additional configuration parameters will be set when the planner is constructed.\n",
      "[INFO] [1672601756.186112750] [moveit.plugins.moveit_simple_controller_manager]: Returned 2 controllers in list\n",
      "[INFO] [1672601756.186261804] [moveit.plugins.moveit_simple_controller_manager]: Returned 2 controllers in list\n",
      "[INFO] [1672601756.186632296] [moveit.plugins.moveit_simple_controller_manager]: Returned 2 controllers in list\n",
      "[INFO] [1672601756.186751599] [moveit.plugins.moveit_simple_controller_manager]: Returned 2 controllers in list\n",
      "[INFO] [1672601756.187077996] [moveit_ros.trajectory_execution_manager]: Validating trajectory with allowed_start_tolerance 0.01\n",
      "[ERROR] [1672601756.195713962] [moveit_ros.trajectory_execution_manager]: \n",
      "Invalid Trajectory: start point deviates from current robot state more than 0.01\n",
      "joint 'panda_joint2': expected: -0.785, current: 1.38172e-16\n"
     ]
    }
   ],
   "source": [
    "# set plan start state using predefined state\n",
    "panda_arm.set_start_state(\"ready\") # This conflicts with the current robot configuration and will cause and error\n",
    "\n",
    "# set goal using a pose message this time\n",
    "pose_goal = PoseStamped()\n",
    "pose_goal.header.frame_id = \"panda_link0\"\n",
    "pose_goal.pose.orientation.w = 1.0\n",
    "pose_goal.pose.position.x = 0.28\n",
    "pose_goal.pose.position.y = -0.2\n",
    "pose_goal.pose.position.z = 0.5\n",
    "panda_arm.set_goal(goal_pose_msg = pose_goal, link_name = \"panda_link8\")\n",
    "\n",
    "# plan to goal\n",
    "plan_result = panda_arm.plan()\n",
    "\n",
    "# execute the plan\n",
    "if plan_result:\n",
    "    panda_arm.execute()"
   ]
  },
  {
   "cell_type": "markdown",
   "id": "6132cfed",
   "metadata": {},
   "source": [
    "Since we are using a notebook this mistake is easy to rectify without having to fix the bug and recompile files. Simply edit the above notebook to match the below and rerun the cell."
   ]
  },
  {
   "cell_type": "code",
   "execution_count": 5,
   "id": "34afad73",
   "metadata": {},
   "outputs": [
    {
     "name": "stderr",
     "output_type": "stream",
     "text": [
      "[INFO] [1672601756.218550249] [moveit.ompl_planning.model_based_planning_context]: Planner configuration 'panda_arm' will use planner 'geometric::RRTConnect'. Additional configuration parameters will be set when the planner is constructed.\n",
      "[INFO] [1672601761.745787127] [moveit.plugins.moveit_simple_controller_manager]: Returned 2 controllers in list\n",
      "[INFO] [1672601761.745881222] [moveit.plugins.moveit_simple_controller_manager]: Returned 2 controllers in list\n",
      "[INFO] [1672601761.746099186] [moveit.plugins.moveit_simple_controller_manager]: Returned 2 controllers in list\n",
      "[INFO] [1672601761.746133666] [moveit.plugins.moveit_simple_controller_manager]: Returned 2 controllers in list\n",
      "[INFO] [1672601761.746325917] [moveit_ros.trajectory_execution_manager]: Validating trajectory with allowed_start_tolerance 0.01\n",
      "[INFO] [1672601761.754883916] [moveit_ros.trajectory_execution_manager]: Starting trajectory execution ...\n",
      "[INFO] [1672601761.754955646] [moveit.plugins.moveit_simple_controller_manager]: Returned 2 controllers in list\n",
      "[INFO] [1672601761.755034361] [moveit.plugins.moveit_simple_controller_manager]: Returned 2 controllers in list\n",
      "[INFO] [1672601761.755140754] [moveit.simple_controller_manager.follow_joint_trajectory_controller_handle]: sending trajectory to panda_arm_controller\n",
      "[INFO] [1672601761.756531256] [moveit.simple_controller_manager.follow_joint_trajectory_controller_handle]: panda_arm_controller started execution\n",
      "[INFO] [1672601761.756559888] [moveit.simple_controller_manager.follow_joint_trajectory_controller_handle]: Goal request accepted!\n",
      "[INFO] [1672601763.806344569] [moveit.simple_controller_manager.follow_joint_trajectory_controller_handle]: Controller 'panda_arm_controller' successfully finished\n",
      "[INFO] [1672601763.834782989] [moveit_ros.trajectory_execution_manager]: Completed trajectory execution with status SUCCEEDED ...\n"
     ]
    }
   ],
   "source": [
    "# set plan start state using predefined state\n",
    "panda_arm.set_start_state_to_current_state() # This conflicts with the current robot pose and will cause and error\n",
    "\n",
    "# set goal using a pose message this time\n",
    "pose_goal = PoseStamped()\n",
    "pose_goal.header.frame_id = \"panda_link0\"\n",
    "pose_goal.pose.orientation.w = 1.0\n",
    "pose_goal.pose.position.x = 0.28\n",
    "pose_goal.pose.position.y = -0.2\n",
    "pose_goal.pose.position.z = 0.5\n",
    "panda_arm.set_goal(goal_pose_msg = pose_goal, link_name = \"panda_link8\")\n",
    "\n",
    "# plan to goal\n",
    "plan_result = panda_arm.plan()\n",
    "\n",
    "# execute the plan\n",
    "if plan_result:\n",
    "    panda_arm.execute()"
   ]
  },
  {
   "cell_type": "markdown",
   "id": "f401a966",
   "metadata": {},
   "source": [
    "## Teleoperation Example\n",
    "\n",
    "One may also want to perform live teleoperation of their robot. Wouldn't it be nice if we could interactively start/stop teleoperation without shutting down and subsequently relaunching all processes. In this example, we are going to show how this is possible with notebooks through a motivating example of teleoperating the robot, performing motion planning and teleoperating the robot again. \n",
    "\n",
    "For this section you will need a device that support teleoperation with moveit_py, in this case we leverage the PS4 dualshock controller. "
   ]
  },
  {
   "cell_type": "code",
   "execution_count": null,
   "id": "280b5e1a",
   "metadata": {},
   "outputs": [],
   "source": [
    "# launch servo client from within notebook\n",
    "!ros2 launch moveit2_tutorials notebook_start_servo_client.launch.py"
   ]
  },
  {
   "cell_type": "code",
   "execution_count": null,
   "id": "e4704d76",
   "metadata": {},
   "outputs": [],
   "source": [
    "from moveit_py.servo_client.devices.ps4_dualshock import PS4DualShockTeleop\n",
    "\n",
    "# instantiate the teleoperating device\n",
    "ps4 = PS4DualShockTeleop()\n",
    "\n",
    "# start teleloperating the robot\n",
    "ps4.start_teleop()"
   ]
  },
  {
   "cell_type": "markdown",
   "id": "3d929142",
   "metadata": {},
   "source": [
    "Oh wait but I actually want to try perform some motion planning to bring the robot back to its default configuration, no problem..."
   ]
  },
  {
   "cell_type": "code",
   "execution_count": null,
   "id": "99c6bb11",
   "metadata": {},
   "outputs": [],
   "source": [
    "# stop teleoperating the robot\n",
    "ps4.stop_teleop()\n",
    "\n",
    "# plan and execute\n",
    "# set plan start state using predefined state\n",
    "panda_arm.set_start_state_to_current_state()\n",
    "\n",
    "# set pose goal using predefined state\n",
    "panda_arm.set_goal(goal_state_name = \"ready\")\n",
    "\n",
    "# plan to goal\n",
    "plan_result = panda_arm.plan()\n",
    "\n",
    "# execute the plan\n",
    "if plan_result:\n",
    "    panda_arm.execute()"
   ]
  },
  {
   "cell_type": "markdown",
   "id": "668f41f7",
   "metadata": {},
   "source": [
    "Ok great now we are back at our default configuration, lets start teleoperating the robot again."
   ]
  },
  {
   "cell_type": "code",
   "execution_count": null,
   "id": "1903a557",
   "metadata": {},
   "outputs": [],
   "source": [
    "ps4.start_teleop()"
   ]
  }
 ],
 "metadata": {
  "kernelspec": {
   "display_name": "Python 3 (ipykernel)",
   "language": "python",
   "name": "python3"
  },
  "language_info": {
   "codemirror_mode": {
    "name": "ipython",
    "version": 3
   },
   "file_extension": ".py",
   "mimetype": "text/x-python",
   "name": "python",
   "nbconvert_exporter": "python",
   "pygments_lexer": "ipython3",
   "version": "3.10.6"
  }
 },
 "nbformat": 4,
 "nbformat_minor": 5
}
